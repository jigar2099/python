{
 "cells": [
  {
   "cell_type": "code",
   "id": "initial_id",
   "metadata": {
    "collapsed": true,
    "ExecuteTime": {
     "end_time": "2025-08-12T12:43:47.999651Z",
     "start_time": "2025-08-12T12:43:47.994641Z"
    }
   },
   "source": [
    "class Car:\n",
    "    pass\n",
    "\n",
    "audi = Car()\n",
    "bmw = Car()\n",
    "\n",
    "print(type(audi))\n",
    "print(audi)"
   ],
   "outputs": [
    {
     "name": "stdout",
     "output_type": "stream",
     "text": [
      "<class '__main__.Car'>\n",
      "<__main__.Car object at 0x0000028E82527CB0>\n"
     ]
    }
   ],
   "execution_count": 2
  },
  {
   "metadata": {
    "ExecuteTime": {
     "end_time": "2025-08-12T12:46:34.424092Z",
     "start_time": "2025-08-12T12:46:34.417619Z"
    }
   },
   "cell_type": "code",
   "source": "dir(Car)",
   "id": "1bb447b817712d09",
   "outputs": [
    {
     "data": {
      "text/plain": [
       "['__class__',\n",
       " '__delattr__',\n",
       " '__dict__',\n",
       " '__dir__',\n",
       " '__doc__',\n",
       " '__eq__',\n",
       " '__firstlineno__',\n",
       " '__format__',\n",
       " '__ge__',\n",
       " '__getattribute__',\n",
       " '__getstate__',\n",
       " '__gt__',\n",
       " '__hash__',\n",
       " '__init__',\n",
       " '__init_subclass__',\n",
       " '__le__',\n",
       " '__lt__',\n",
       " '__module__',\n",
       " '__ne__',\n",
       " '__new__',\n",
       " '__reduce__',\n",
       " '__reduce_ex__',\n",
       " '__repr__',\n",
       " '__setattr__',\n",
       " '__sizeof__',\n",
       " '__static_attributes__',\n",
       " '__str__',\n",
       " '__subclasshook__',\n",
       " '__weakref__']"
      ]
     },
     "execution_count": 4,
     "metadata": {},
     "output_type": "execute_result"
    }
   ],
   "execution_count": 4
  },
  {
   "metadata": {
    "ExecuteTime": {
     "end_time": "2025-08-12T13:03:07.683597Z",
     "start_time": "2025-08-12T13:03:07.679032Z"
    }
   },
   "cell_type": "code",
   "source": [
    "class Dog:\n",
    "    def __init__(self, name, age):\n",
    "        self.name = name\n",
    "        self.age = age\n",
    "    def bark(self):\n",
    "        print(f'{self.name} : woof')\n",
    "        \n",
    "dog = Dog('buddy', 3).bark()"
   ],
   "id": "7ae7cdda9e4e152b",
   "outputs": [
    {
     "name": "stdout",
     "output_type": "stream",
     "text": [
      "buddy : woof\n"
     ]
    }
   ],
   "execution_count": 7
  },
  {
   "metadata": {
    "ExecuteTime": {
     "end_time": "2025-08-12T13:12:10.091660Z",
     "start_time": "2025-08-12T13:12:10.086446Z"
    }
   },
   "cell_type": "code",
   "source": [
    "class BankAccount:\n",
    "    def __init__(self, owner, balance=0):\n",
    "        self.owner = owner\n",
    "        self.balance = balance\n",
    "    def diposit(self, amount):\n",
    "        self.balance += amount\n",
    "        print(f'{self.owner} : {self.balance} after diposit')\n",
    "    def withdraw(self, amount):\n",
    "        if amount > self.balance:\n",
    "            print('insufficient funds')\n",
    "        else: \n",
    "            self.balance -= amount\n",
    "            print(f'{self.owner} : {self.balance} after withdraw')\n",
    "    def get_balance(self):\n",
    "        print(f'{self.owner} : {self.balance} is the current balance')\n",
    "        return self.balance\n",
    "## create an object\n",
    "account = BankAccount('Jack', 1000)\n",
    "print(account.get_balance())\n",
    "account.withdraw(100)\n",
    "print(account.get_balance())\n",
    "account.diposit(23423)\n",
    "print(account.get_balance())\n",
    "account.withdraw(10000)\n",
    "print(account.get_balance())"
   ],
   "id": "be2d2d97fef8a953",
   "outputs": [
    {
     "name": "stdout",
     "output_type": "stream",
     "text": [
      "Jack : 1000 is the current balance\n",
      "1000\n",
      "Jack : 900 after withdraw\n",
      "Jack : 900 is the current balance\n",
      "900\n",
      "Jack : 24323 after diposit\n",
      "Jack : 24323 is the current balance\n",
      "24323\n",
      "Jack : 14323 after withdraw\n",
      "Jack : 14323 is the current balance\n",
      "14323\n"
     ]
    }
   ],
   "execution_count": 16
  },
  {
   "metadata": {},
   "cell_type": "markdown",
   "source": "# Inheritance",
   "id": "5078fed380a4f05e"
  },
  {
   "metadata": {
    "ExecuteTime": {
     "end_time": "2025-08-12T13:24:56.290439Z",
     "start_time": "2025-08-12T13:24:56.283015Z"
    }
   },
   "cell_type": "code",
   "source": [
    "class Car:\n",
    "    def __init__(self, windows, doors, enginetype):\n",
    "        self.windows = windows\n",
    "        self.doors = doors\n",
    "        self.enginetype = enginetype\n",
    "    def drive(self):\n",
    "        print(f\"The person will drive the {self.enginetype} car\")\n",
    "        \n",
    "class Tesla(Car):\n",
    "    def __init__(self, windows, doors, enginetype, is_selfdriving):\n",
    "        super().__init__(windows, doors, enginetype)\n",
    "        self.is_selfdriving = is_selfdriving\n",
    "    def selfDriving(self):\n",
    "        print(f\"Tesla supports self driving: {self.is_selfdriving}\")\n",
    "        \n",
    "if __name__ == '__main__':\n",
    "    car1 = Car(4,5,'petrol')\n",
    "    print(car1.drive())\n",
    "    tesla1 = Tesla(4,5,'petrol', True)\n",
    "    print(tesla1.selfDriving())\n",
    "    print(tesla1.drive())"
   ],
   "id": "4901b72b2ab4c0",
   "outputs": [
    {
     "name": "stdout",
     "output_type": "stream",
     "text": [
      "The person will drive the petrol car\n",
      "None\n",
      "Tesla supports self driving: True\n",
      "None\n",
      "The person will drive the petrol car\n",
      "None\n"
     ]
    }
   ],
   "execution_count": 22
  },
  {
   "metadata": {},
   "cell_type": "markdown",
   "source": "### Multiple Inheritance",
   "id": "1d9eaab03f1fc590"
  },
  {
   "metadata": {},
   "cell_type": "code",
   "outputs": [],
   "execution_count": null,
   "source": [
    "# Base class-1\n",
    "class Animal:\n",
    "    def __init__(self, name):\n",
    "        self.name = name\n",
    "    def speak(self):\n",
    "        print(f'Hello {self.name}')\n",
    "# Base class-2\n",
    "class Pet:\n",
    "    def __init__(self, owner):\n",
    "        self.owner = owner\n",
    "\n",
    "# Derived Calss\n",
    "class Dog(Animal, Pet):\n",
    "    def __init__(self, name, owner):\n",
    "        Animal.__init__(self, name)\n",
    "        Pet.__init__(self, owner)"
   ],
   "id": "6a856f4c15c5f07d"
  },
  {
   "metadata": {},
   "cell_type": "code",
   "outputs": [],
   "execution_count": null,
   "source": "",
   "id": "66b0267e5737bde3"
  },
  {
   "metadata": {},
   "cell_type": "markdown",
   "source": [
    "# Polymorphism\n",
    "Method overruding allows a child class to provide a specific implementation of a  method that is already defined in its parent class"
   ],
   "id": "379edc702916db0c"
  },
  {
   "metadata": {
    "ExecuteTime": {
     "end_time": "2025-08-19T11:53:10.036376Z",
     "start_time": "2025-08-19T11:53:10.030779Z"
    }
   },
   "cell_type": "code",
   "source": [
    "## Base class\n",
    "\n",
    "class Animal:\n",
    "    def speak(self):\n",
    "        return \"Sound of the animal\"\n",
    "## Derived Class 1\n",
    "class Dog(Animal):\n",
    "    def speak(self):\n",
    "        return \"Woof!\"\n",
    "## Derived class\n",
    "class Cat(Animal):\n",
    "    def speak(self):\n",
    "        return \"Meow!!\"\n",
    "    \n",
    "## Function emonstrate polymorphism\n",
    "def animal_speak(animal):\n",
    "    print(animal.speak())\n",
    "    \n",
    "if __name__ == '__main__':\n",
    "    dog = Dog()\n",
    "    cat = Cat()\n",
    "    print(dog.speak())\n",
    "    print(cat.speak())\n",
    "    animal_speak(dog)"
   ],
   "id": "d4905ad1fa82dafa",
   "outputs": [
    {
     "name": "stdout",
     "output_type": "stream",
     "text": [
      "Woof!\n",
      "Meow!!\n",
      "Woof!\n"
     ]
    }
   ],
   "execution_count": 4
  },
  {
   "metadata": {},
   "cell_type": "markdown",
   "source": "### polymorphism with Functions and Methods",
   "id": "266f2958fc047ad3"
  },
  {
   "metadata": {
    "ExecuteTime": {
     "end_time": "2025-08-19T11:59:05.044394Z",
     "start_time": "2025-08-19T11:59:05.038762Z"
    }
   },
   "cell_type": "code",
   "source": [
    "# base classs\n",
    "\n",
    "class Shape:\n",
    "    def area(self):\n",
    "        return \"The area of the figure\"\n",
    "    \n",
    "# Derived class 1\n",
    "class Rectangle(Shape):\n",
    "    def __init__(self, width, height):\n",
    "        self.width = width\n",
    "        self.height = height\n",
    "        \n",
    "    def area(self):\n",
    "        return self.width * self.height\n",
    "    \n",
    "# Derived class 2\n",
    "class Circle(Shape):\n",
    "    def __init__(self, radius):\n",
    "        self.radius = radius\n",
    "    def area(self):\n",
    "        return 3.14 * self.radius * self.radius\n",
    "    \n",
    "# Fucntion that demonstrate polymorphism\n",
    "def pring_area(shape):\n",
    "    print(f\"The area of the {shape} is {shape.area()}\")\n",
    "    \n",
    "if __name__ == '__main__':\n",
    "    rectangle = Rectangle(5, 5)\n",
    "    circle = Circle(5)\n",
    "    pring_area(rectangle)\n",
    "    pring_area(circle)"
   ],
   "id": "f13bb4fdfd98ec8",
   "outputs": [
    {
     "name": "stdout",
     "output_type": "stream",
     "text": [
      "The area of the <__main__.Rectangle object at 0x000001C55EF07CB0> is 25\n",
      "The area of the <__main__.Circle object at 0x000001C55EF07E00> is 78.5\n"
     ]
    }
   ],
   "execution_count": 5
  },
  {
   "metadata": {},
   "cell_type": "markdown",
   "source": [
    "## Polymorphism with Abstract Base Classes\n",
    "Abstract Base Classes (ABCs) are used to define common methods for a group of related objects. They can enforce that derived classes implement particular methods, prompting consistency across differrent implementations\n"
   ],
   "id": "e06d64743493fe6a"
  },
  {
   "metadata": {
    "ExecuteTime": {
     "end_time": "2025-08-19T12:14:45.593785Z",
     "start_time": "2025-08-19T12:14:45.588386Z"
    }
   },
   "cell_type": "code",
   "source": [
    "from abc import ABC, abstractmethod\n",
    "\n",
    "## Define a abstract class\n",
    "class Vehicle(ABC):\n",
    "    @abstractmethod\n",
    "    def start_engine(self):\n",
    "        pass\n",
    "    \n",
    "## Derived class 1\n",
    "class Car(Vehicle):\n",
    "    def start_engine(self):\n",
    "        return \"Car Engine Started\"\n",
    "## Derived class 2\n",
    "class Motorcycle(Vehicle):\n",
    "    def start_engine(self):\n",
    "        return \"Motorcycle Started\"\n",
    "    \n",
    "def start_vehicle(vehicle):\n",
    "    print(f\"{vehicle.start_engine()}\")\n",
    "    \n",
    "if __name__ == '__main__':\n",
    "    car = Car()\n",
    "    motorcycle = Motorcycle()\n",
    "    \n",
    "    start_vehicle(car)\n",
    "    start_vehicle(motorcycle)"
   ],
   "id": "61be62b71936c5b9",
   "outputs": [
    {
     "name": "stdout",
     "output_type": "stream",
     "text": [
      "Car Engine Started\n",
      "Motorcycle Started\n"
     ]
    }
   ],
   "execution_count": 8
  },
  {
   "metadata": {
    "ExecuteTime": {
     "end_time": "2025-08-19T12:41:23.141452Z",
     "start_time": "2025-08-19T12:41:23.136907Z"
    }
   },
   "cell_type": "code",
   "source": [
    "### Encapsulation with Getter and Setter Methods\n",
    "### Public, protected private variables\n",
    "\n",
    "\n",
    "class Person:\n",
    "    def __init__(self, name, age):\n",
    "        self.name = name            ## public variable\n",
    "        self.age = age              ## public variable\n",
    "        \n",
    "def get_name(person):\n",
    "    return person.name\n",
    "if __name__ == '__main__':\n",
    "    person = Person('Jack', 20)\n",
    "    get_name(person)"
   ],
   "id": "520c5dd8a5cf98dc",
   "outputs": [],
   "execution_count": 11
  },
  {
   "metadata": {
    "ExecuteTime": {
     "end_time": "2025-08-19T12:50:29.622160Z",
     "start_time": "2025-08-19T12:50:29.598994Z"
    }
   },
   "cell_type": "code",
   "source": [
    "### Encapsulation with Getter and Setter Methods\n",
    "### Public, protected private variables\n",
    "\n",
    "\n",
    "class Person:\n",
    "    def __init__(self, name, age, gender):\n",
    "        self.__name = name            ## private variable\n",
    "        self.__age = age              ## private variable\n",
    "        self.gender = gender          ## public variable\n",
    "        \n",
    "def get_name(person):\n",
    "    return person.__name\n",
    "\n",
    "if __name__ == '__main__':\n",
    "    person = Person('Jack', 20, \"Male\")\n",
    "    print(get_name(person))"
   ],
   "id": "5c1feea5ba99705b",
   "outputs": [
    {
     "ename": "AttributeError",
     "evalue": "'Person' object has no attribute '__name'",
     "output_type": "error",
     "traceback": [
      "\u001B[1;31m---------------------------------------------------------------------------\u001B[0m",
      "\u001B[1;31mAttributeError\u001B[0m                            Traceback (most recent call last)",
      "Cell \u001B[1;32mIn[24], line 16\u001B[0m\n\u001B[0;32m     14\u001B[0m \u001B[38;5;28;01mif\u001B[39;00m \u001B[38;5;18m__name__\u001B[39m \u001B[38;5;241m==\u001B[39m \u001B[38;5;124m'\u001B[39m\u001B[38;5;124m__main__\u001B[39m\u001B[38;5;124m'\u001B[39m:\n\u001B[0;32m     15\u001B[0m     person \u001B[38;5;241m=\u001B[39m Person(\u001B[38;5;124m'\u001B[39m\u001B[38;5;124mJack\u001B[39m\u001B[38;5;124m'\u001B[39m, \u001B[38;5;241m20\u001B[39m, \u001B[38;5;124m\"\u001B[39m\u001B[38;5;124mMale\u001B[39m\u001B[38;5;124m\"\u001B[39m)\n\u001B[1;32m---> 16\u001B[0m     \u001B[38;5;28mprint\u001B[39m(get_name(person))\n",
      "Cell \u001B[1;32mIn[24], line 12\u001B[0m, in \u001B[0;36mget_name\u001B[1;34m(person)\u001B[0m\n\u001B[0;32m     11\u001B[0m \u001B[38;5;28;01mdef\u001B[39;00m\u001B[38;5;250m \u001B[39m\u001B[38;5;21mget_name\u001B[39m(person):\n\u001B[1;32m---> 12\u001B[0m     \u001B[38;5;28;01mreturn\u001B[39;00m person\u001B[38;5;241m.\u001B[39m__name\n",
      "\u001B[1;31mAttributeError\u001B[0m: 'Person' object has no attribute '__name'"
     ]
    }
   ],
   "execution_count": 24
  },
  {
   "metadata": {
    "ExecuteTime": {
     "end_time": "2025-08-19T12:53:30.951936Z",
     "start_time": "2025-08-19T12:53:30.946657Z"
    }
   },
   "cell_type": "code",
   "source": [
    "### Encapsulation with Getter and Setter Methods\n",
    "### Public, protected private variables\n",
    "\n",
    "\n",
    "class Person:\n",
    "    def __init__(self, name, age, gender):\n",
    "        self._name = name            ## protected variable\n",
    "        self._age = age              ## protected variable\n",
    "        self.gender = gender          ## public variable\n",
    "        \n",
    "class Employee(Person):\n",
    "    def __init__(self, name, age, gender):\n",
    "        super().__init__(name, age, gender)\n",
    "\n",
    "if __name__ == '__main__':\n",
    "    employee = Employee('Jack', 20, \"Male\")\n",
    "    print(employee._name)"
   ],
   "id": "a0407bb12ec5cecb",
   "outputs": [
    {
     "name": "stdout",
     "output_type": "stream",
     "text": [
      "Jack\n"
     ]
    }
   ],
   "execution_count": 26
  },
  {
   "metadata": {
    "ExecuteTime": {
     "end_time": "2025-08-19T13:03:00.553068Z",
     "start_time": "2025-08-19T13:03:00.548066Z"
    }
   },
   "cell_type": "code",
   "source": [
    "## Encapsulation With Getter and Setter\n",
    "\n",
    "class Person:\n",
    "    def __init__(self, name, age):\n",
    "        self.__name = name # Private access modifier or variable\n",
    "        self.__age = age # Private variable\n",
    "        \n",
    "    ## getter method for name\n",
    "    def get_name(self):\n",
    "        return self.__name\n",
    "    ## setter method for name\n",
    "    def set_name(self, name):\n",
    "        self.__name = name\n",
    "        \n",
    "    # getter method for age\n",
    "    def get_age(self):\n",
    "        return self.__age\n",
    "    # setter method for age\n",
    "    def set_age(self, age):\n",
    "        if age > 0:\n",
    "            self.__age = age\n",
    "        else: print(\"Age must be greater than zero\")\n",
    "        \n",
    "if __name__ == '__main__':\n",
    "    person = Person('Jack', 20)\n",
    "    \n",
    "    ## Access and modify private variables using getter and setter\n",
    "    print(person.get_name())\n",
    "    print(person.get_age())\n",
    "    \n",
    "    person.set_age(30)\n",
    "    print(person.get_age())\n",
    "    person.set_age(-40)\n",
    "    #print(person.get_age())"
   ],
   "id": "4fd280fd78170f99",
   "outputs": [
    {
     "name": "stdout",
     "output_type": "stream",
     "text": [
      "Jack\n",
      "20\n",
      "30\n",
      "Age must be greater than zero\n"
     ]
    }
   ],
   "execution_count": 28
  },
  {
   "metadata": {},
   "cell_type": "markdown",
   "source": "## Abstraction",
   "id": "b16b7d8f52c99c19"
  },
  {
   "metadata": {
    "ExecuteTime": {
     "end_time": "2025-09-13T13:05:50.108900Z",
     "start_time": "2025-09-13T13:05:50.098673Z"
    }
   },
   "cell_type": "code",
   "source": [
    "from abc import ABC, abstractmethod\n",
    "\n",
    "## Abstract class\n",
    "\n",
    "class Vehicle(ABC):\n",
    "    def drive(self):\n",
    "        print(\"The vehical is used for driving\")\n",
    "        \n",
    "    @abstractmethod\n",
    "    def start_engine(self):\n",
    "        pass\n",
    "    \n",
    "class Car(Vehicle):\n",
    "    def start_engine(self):\n",
    "        print(\"The car is starting\")\n",
    "        \n",
    "def operate_vehicle(vehicle):\n",
    "    vehicle.start_engine()\n",
    "    \n",
    "car = Car()\n",
    "operate_vehicle(car)"
   ],
   "id": "13e2f0f1a284cd42",
   "outputs": [
    {
     "name": "stdout",
     "output_type": "stream",
     "text": [
      "The car is starting\n"
     ]
    }
   ],
   "execution_count": 1
  },
  {
   "metadata": {
    "ExecuteTime": {
     "end_time": "2025-09-13T13:15:47.592529Z",
     "start_time": "2025-09-13T13:15:47.587336Z"
    }
   },
   "cell_type": "code",
   "source": [
    "## Basics methods\n",
    "\n",
    "class Person:\n",
    "    def __init__(self, name, age):\n",
    "        self.name = name\n",
    "        self.age = age\n",
    "        \n",
    "    def __str__(self):\n",
    "        return f'{self.name}, {self.age} years old'\n",
    "    def __repr__(self):\n",
    "        return f\"Person {self.name}, {self.age} years old\"\n",
    "    \n",
    "\n",
    "\n",
    "person = Person(\"Jigar\", 32)\n",
    "print(person)\n",
    "print(repr(person))"
   ],
   "id": "a6adb8c20503eac9",
   "outputs": [
    {
     "name": "stdout",
     "output_type": "stream",
     "text": [
      "Jigar, 32 years old\n",
      "Person Jigar, 32 years old\n"
     ]
    }
   ],
   "execution_count": 9
  },
  {
   "metadata": {
    "ExecuteTime": {
     "end_time": "2025-09-13T13:30:30.508458Z",
     "start_time": "2025-09-13T13:30:30.502473Z"
    }
   },
   "cell_type": "code",
   "source": [
    "class Vector:\n",
    "    def __init__(self,x,y, **kwargs):\n",
    "        self.x = x\n",
    "        self.y = y\n",
    "    def __add__(self, other):\n",
    "        return Vector(self.x + other.x, self.y + other.y)\n",
    "    def __sub__(self, other):\n",
    "        return Vector(self.x - other.x, self.y - other.y)\n",
    "    def __mul__(self, other):\n",
    "        return Vector(self.x * other.x, self.y * other.y)\n",
    "    def __eq__(self, other):\n",
    "        return self.x == other.x and self.y == other.y\n",
    "    def __repr__(self):\n",
    "        return f'Vector({self.x}, {self.y})'\n",
    "    \n",
    "## create objects of the vector class\n",
    "v1 = Vector(2,3,)\n",
    "v2 = Vector(4,5,)\n",
    "print(v1+v2)\n",
    "print(v1-v2)\n",
    "print(v1*v2)"
   ],
   "id": "f85b497e2b846dae",
   "outputs": [
    {
     "name": "stdout",
     "output_type": "stream",
     "text": [
      "Vector(6, 8)\n",
      "Vector(-2, -2)\n",
      "Vector(8, 15)\n"
     ]
    }
   ],
   "execution_count": 17
  },
  {
   "metadata": {
    "ExecuteTime": {
     "end_time": "2025-09-13T13:40:12.710360Z",
     "start_time": "2025-09-13T13:40:12.705013Z"
    }
   },
   "cell_type": "code",
   "source": [
    "class ComplexNumber:\n",
    "    def __init__(self, real, imaginary):\n",
    "        self.real = real\n",
    "        self.imaginary = imaginary\n",
    "    def __add__(self, other):\n",
    "        return ComplexNumber(self.real + other.real, self.imaginary + other.imaginary)\n",
    "    def __sub__(self, other):\n",
    "        return ComplexNumber(self.real - other.real, self.imaginary - other.imaginary)\n",
    "    def __mul__(self, other):\n",
    "        return ComplexNumber(self.real * other.real, self.imaginary * other.imaginary)\n",
    "    def __truediv__(self, other):\n",
    "        return ComplexNumber(self.real / other.real, self.imaginary / other.imaginary)\n",
    "    \n",
    "    def __repr__(self):\n",
    "        return f'{self.real} + {self.imaginary}i'\n",
    "    \n",
    "### create object of complex number class\n",
    "complex1 = ComplexNumber(3,4)\n",
    "complex2 = ComplexNumber(5,6)\n",
    "print(complex1 + complex2)\n",
    "print(complex1 - complex2)\n",
    "print(complex1 * complex2)"
   ],
   "id": "2844b991e91a70d7",
   "outputs": [
    {
     "name": "stdout",
     "output_type": "stream",
     "text": [
      "8 + 10i\n",
      "-2 + -2i\n",
      "15 + 24i\n"
     ]
    }
   ],
   "execution_count": 23
  },
  {
   "metadata": {},
   "cell_type": "code",
   "outputs": [],
   "execution_count": null,
   "source": "",
   "id": "4fc32228473437b3"
  }
 ],
 "metadata": {
  "kernelspec": {
   "display_name": "Python 3",
   "language": "python",
   "name": "python3"
  },
  "language_info": {
   "codemirror_mode": {
    "name": "ipython",
    "version": 2
   },
   "file_extension": ".py",
   "mimetype": "text/x-python",
   "name": "python",
   "nbconvert_exporter": "python",
   "pygments_lexer": "ipython2",
   "version": "2.7.6"
  }
 },
 "nbformat": 4,
 "nbformat_minor": 5
}
